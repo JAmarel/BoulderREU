{
 "cells": [
  {
   "cell_type": "code",
   "execution_count": 1,
   "metadata": {
    "collapsed": true
   },
   "outputs": [],
   "source": [
    "import numpy as np\n",
    "%matplotlib inline\n",
    "import matplotlib.pyplot as plt\n",
    "import scipy.optimize as opt"
   ]
  },
  {
   "cell_type": "code",
   "execution_count": 2,
   "metadata": {
    "collapsed": true
   },
   "outputs": [],
   "source": [
    "#2.6mm wide\n",
    "#1.9mm verticle\n",
    "#Taken at 640x480\n",
    "mmperpix = .004\n",
    "fps = 1000\n",
    "n = 4 #Number of epx files\n",
    "#epx files renamed test0.txt through testn.txt\n",
    "dt = 1/fps"
   ]
  },
  {
   "cell_type": "code",
   "execution_count": 3,
   "metadata": {
    "collapsed": true
   },
   "outputs": [],
   "source": [
    "def filterindex(maj):\n",
    "    z = 0\n",
    "    for entry in maj:\n",
    "        if entry<2*maj[0] and entry>.5*maj[0] and entry<400:\n",
    "            \"\"\"When the particle tracker loses the particle it creates a very large ellipse where the minor axis is\n",
    "            about the width of the screen. Also if tracking a small particle that overlaps with a dust spec, sometimes\n",
    "            the tracker will shrink the size of the ellipse and fit it to the dust. This if statement along with the \n",
    "            list slicing below discard any entries in the position arrays after there has been an error in tracking\"\"\"\n",
    "            z = z + 1\n",
    "    return z"
   ]
  },
  {
   "cell_type": "code",
   "execution_count": 4,
   "metadata": {
    "collapsed": false
   },
   "outputs": [],
   "source": [
    "alldata = np.array([np.delete(np.loadtxt('new' + str(j) +'.txt', unpack=True),0,0) for j in range(n)])\n",
    "alldata = alldata*mmperpix\n",
    "alldata = np.array([entry for box in alldata for entry in box])"
   ]
  },
  {
   "cell_type": "code",
   "execution_count": 5,
   "metadata": {
    "collapsed": true
   },
   "outputs": [],
   "source": [
    "N = int(len(alldata)/5)\n",
    "allx = np.array([alldata[5*i] for i in range(N)])\n",
    "ally = np.array([alldata[1+5*i] for i in range(N)])\n",
    "allmaj = np.array([alldata[2+5*i] for i in range(N)])\n",
    "allmin = np.array([alldata[3+5*i] for i in range(N)])"
   ]
  },
  {
   "cell_type": "code",
   "execution_count": 6,
   "metadata": {
    "collapsed": false
   },
   "outputs": [],
   "source": [
    "x = np.array([allx[i][0:filterindex(allmaj[i])] for i in range(len(allx))])\n",
    "x = np.array([entry for entry in x if len(entry)>=20])\n",
    "y = np.array([ally[i][0:filterindex(allmaj[i])] for i in range(len(ally))])\n",
    "y = np.array([entry for entry in y if len(entry)>=20])"
   ]
  },
  {
   "cell_type": "code",
   "execution_count": 7,
   "metadata": {
    "collapsed": false
   },
   "outputs": [],
   "source": [
    "xavg = np.array([np.mean(entry) for entry in x])\n",
    "alldy = np.array([np.gradient(entry) for entry in y])\n",
    "dyavg = -np.array([np.mean(entry) for entry in alldy])\n",
    "vyavg = dyavg/dt "
   ]
  },
  {
   "cell_type": "code",
   "execution_count": 8,
   "metadata": {
    "collapsed": false
   },
   "outputs": [
    {
     "data": {
      "text/plain": [
       "32"
      ]
     },
     "execution_count": 8,
     "metadata": {},
     "output_type": "execute_result"
    }
   ],
   "source": [
    "particles = len(x)\n",
    "particles"
   ]
  },
  {
   "cell_type": "code",
   "execution_count": 9,
   "metadata": {
    "collapsed": false
   },
   "outputs": [],
   "source": [
    "def u(x,dp):\n",
    "    b = 1.25*.001\n",
    "    mu = .045\n",
    "    return -(x/mu)*dp*(b-x/2)"
   ]
  },
  {
   "cell_type": "code",
   "execution_count": 10,
   "metadata": {
    "collapsed": false
   },
   "outputs": [
    {
     "data": {
      "text/plain": [
       "-264.1062560520308"
      ]
     },
     "execution_count": 10,
     "metadata": {},
     "output_type": "execute_result"
    }
   ],
   "source": [
    "theta_best, theta_cov = opt.curve_fit(u, xavg[vyavg>0]*.001, vyavg[vyavg>0]*.001)\n",
    "dp = theta_best[0]\n",
    "dp"
   ]
  },
  {
   "cell_type": "code",
   "execution_count": 11,
   "metadata": {
    "collapsed": false
   },
   "outputs": [
    {
     "name": "stdout",
     "output_type": "stream",
     "text": [
      "dp/dx = -264.106 +/- 3.803\n"
     ]
    }
   ],
   "source": [
    "print('dp/dx = {0:.3f} +/- {1:.3f}'.format(dp, np.sqrt(theta_cov[0,0])))"
   ]
  },
  {
   "cell_type": "code",
   "execution_count": 16,
   "metadata": {
    "collapsed": false
   },
   "outputs": [
    {
     "data": {
      "image/png": "[encoded data removed]",
      "text/plain": [
       "<matplotlib.figure.Figure at 0x7fc29fe21cf8>"
      ]
     },
     "metadata": {},
     "output_type": "display_data"
    }
   ],
   "source": [
    "plt.title('Average Y Velocity vs Average X Position');\n",
    "plt.xlabel('X Position (mm)');\n",
    "plt.ylabel('Y Velocity (mm/s)');\n",
    "plt.scatter(xavg[vyavg>.2], vyavg[vyavg>.2]);\n",
    "plt.plot(np.linspace(0,2.5,1000),u(np.linspace(0,2.5*.001,1000),dp)*1000)\n",
    "plt.tick_params(axis='x',top='off',direction='out')\n",
    "plt.tick_params(axis='y',right='off',direction='out')\n",
    "plt.text(.7, 1, 'dp/dx = {0:.3f} +/- {1:.3f} Pa/m'.format(dp, np.sqrt(theta_cov[0,0])));\n",
    "plt.text(.7, .5, 'Number of Particles = {} '.format(particles));\n",
    "plt.plot(np.zeros(5),np.linspace(0,5,5),color = 'black',linewidth = '6')\n",
    "plt.plot(np.array([2.5]*5),np.linspace(0,5,5),color = 'black',linewidth = '6')\n",
    "plt.xlim(0,2.5)\n",
    "plt.ylim(0,5)\n",
    "plt.savefig('Firstrun.png')"
   ]
  },
  {
   "cell_type": "code",
   "execution_count": null,
   "metadata": {
    "collapsed": true
   },
   "outputs": [],
   "source": []
  }
 ],
 "metadata": {
  "kernelspec": {
   "display_name": "Python 3",
   "language": "python",
   "name": "python3"
  },
  "language_info": {
   "codemirror_mode": {
    "name": "ipython",
    "version": 3
   },
   "file_extension": ".py",
   "mimetype": "text/x-python",
   "name": "python",
   "nbconvert_exporter": "python",
   "pygments_lexer": "ipython3",
   "version": "3.4.0"
  }
 },
 "nbformat": 4,
 "nbformat_minor": 0
}
