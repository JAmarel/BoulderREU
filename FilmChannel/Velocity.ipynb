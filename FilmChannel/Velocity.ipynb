{
 "cells": [
  {
   "cell_type": "code",
   "execution_count": 266,
   "metadata": {
    "collapsed": true
   },
   "outputs": [],
   "source": [
    "import numpy as np\n",
    "%matplotlib inline\n",
    "import matplotlib.pyplot as plt"
   ]
  },
  {
   "cell_type": "code",
   "execution_count": 267,
   "metadata": {
    "collapsed": true
   },
   "outputs": [],
   "source": [
    "#2.6mm wide\n",
    "#1.9mm verticle\n",
    "#Taken at 640x480\n",
    "mmperpix = .004\n",
    "fps = 1000"
   ]
  },
  {
   "cell_type": "code",
   "execution_count": 268,
   "metadata": {
    "collapsed": true
   },
   "outputs": [],
   "source": [
    "n = 4 #Number of epx files\n",
    "#epx files renamed test0.txt through testn.txt"
   ]
  },
  {
   "cell_type": "code",
   "execution_count": 269,
   "metadata": {
    "collapsed": false
   },
   "outputs": [],
   "source": [
    "alldata = np.array([np.delete(np.loadtxt('new' + str(j) +'.txt', unpack=True),0,0) for j in range(n)])\n",
    "alldata = alldata*mmperpix"
   ]
  },
  {
   "cell_type": "code",
   "execution_count": 270,
   "metadata": {
    "collapsed": false
   },
   "outputs": [],
   "source": [
    "alldata = np.array([entry for box in alldata for entry in box])"
   ]
  },
  {
   "cell_type": "code",
   "execution_count": 271,
   "metadata": {
    "collapsed": false
   },
   "outputs": [],
   "source": [
    "N = int(len(alldata)/5)"
   ]
  },
  {
   "cell_type": "code",
   "execution_count": 272,
   "metadata": {
    "collapsed": true
   },
   "outputs": [],
   "source": [
    "allx = np.array([alldata[5*i] for i in range(N)])\n",
    "ally = np.array([alldata[1+5*i] for i in range(N)])\n",
    "allmaj = np.array([alldata[2+5*i] for i in range(N)])"
   ]
  },
  {
   "cell_type": "code",
   "execution_count": 273,
   "metadata": {
    "collapsed": true
   },
   "outputs": [],
   "source": [
    "x = np.array([allx[i][0:filterindex(allmaj[i])] for i in range(len(allx))])\n",
    "y = np.array([ally[i][0:filterindex(allmaj[i])] for i in range(len(ally))])"
   ]
  },
  {
   "cell_type": "code",
   "execution_count": 274,
   "metadata": {
    "collapsed": true
   },
   "outputs": [],
   "source": [
    "xavg = np.array([np.mean(entry) for entry in x])\n",
    "alldy = np.array([np.gradient(entry) for entry in y])\n",
    "dyavg = -np.array([np.mean(entry) for entry in alldy])\n",
    "vyavg = dyavg/dt "
   ]
  },
  {
   "cell_type": "code",
   "execution_count": 275,
   "metadata": {
    "collapsed": false
   },
   "outputs": [
    {
     "data": {
      "image/png": "[encoded data removed]",
      "text/plain": [
       "<matplotlib.figure.Figure at 0x7f5409905048>"
      ]
     },
     "metadata": {},
     "output_type": "display_data"
    }
   ],
   "source": [
    "f, ax = plt.subplots(1, 1,figsize=(8,6),sharey=True)\n",
    "plt.title('Average Y Velocity vs Average X Position');\n",
    "plt.xlabel('X Position (mm)');\n",
    "plt.ylabel('Y Velocity (mm/s)');\n",
    "plt.scatter(xavg, vyavg);\n",
    "plt.tick_params(axis='x',top='off',direction='out')\n",
    "plt.tick_params(axis='y',right='off',direction='out')\n",
    "plt.xlim(0,2.6);\n",
    "plt.ylim(0,6);"
   ]
  },
  {
   "cell_type": "code",
   "execution_count": 65,
   "metadata": {
    "collapsed": true
   },
   "outputs": [],
   "source": [
    "def allarrays(textfile):\n",
    "    #This loop cycles each text file from tracking program\n",
    "    data = np.loadtxt(textfile)#This load only serves to find N\n",
    "    N = int((len(data[0])-1)/5) #I load twice because it is easier to count the number of particles without unpacking \n",
    "    data = np.loadtxt(textfile, unpack=True)\n",
    "    \n",
    "    #Array of arrays where each sub-array contains the information for a single particle at each frame\n",
    "    xall = np.array([data[1+5*i] for i in range(N)])\n",
    "    yall = np.array([data[2+5*i] for i in range(N)])\n",
    "    majall = np.array([data[3+5*i] for i in range(N)]) #major axis\n",
    "    return xall,yall,majall"
   ]
  },
  {
   "cell_type": "code",
   "execution_count": 255,
   "metadata": {
    "collapsed": true
   },
   "outputs": [],
   "source": [
    "def filterindex(maj):\n",
    "    z = 0\n",
    "    for entry in maj:\n",
    "        if entry<2*maj[0] and entry>.5*maj[0] and entry<400:\n",
    "            \"\"\"When the particle tracker loses the particle it creates a very large ellipse where the minor axis is\n",
    "            about the width of the screen. Also if tracking a small particle that overlaps with a dust spec, sometimes\n",
    "            the tracker will shrink the size of the ellipse and fit it to the dust. This if statement along with the \n",
    "            list slicing below discard any entries in the position arrays after there has been an error in tracking\"\"\"\n",
    "            z = z + 1\n",
    "    return z"
   ]
  },
  {
   "cell_type": "code",
   "execution_count": 250,
   "metadata": {
    "collapsed": false,
    "scrolled": false
   },
   "outputs": [
    {
     "data": {
      "image/png": "[encoded data removed]",
      "text/plain": [
       "<matplotlib.figure.Figure at 0x7f5409b7b240>"
      ]
     },
     "metadata": {},
     "output_type": "display_data"
    }
   ],
   "source": [
    "particles = 0\n",
    "f, ax = plt.subplots(1, 1,figsize=(6,6),sharey=True)\n",
    "\n",
    "for j in range(n):\n",
    "    #This loop cycles each text file from tracking program\n",
    "    data = np.loadtxt('new' + str(j) +'.txt')#This load only serves to find N\n",
    "    N = int((len(data[0])-1)/5) #I load twice because it is easier to count the number of particles without unpacking \n",
    "    data = np.loadtxt('new' + str(j) +'.txt', unpack=True)\n",
    "    \n",
    "    #Array of arrays where each sub-array contains the information for a single particle at each frame\n",
    "    xall = np.array([data[1+5*i] for i in range(N)])\n",
    "    yall = np.array([data[2+5*i] for i in range(N)])\n",
    "    majall = np.array([data[3+5*i] for i in range(N)]) #major axis\n",
    "            \n",
    "\n",
    "    for i in range(len(xall)):\n",
    "        \n",
    "        #Looping through the sub arrays to plot each particle individually\n",
    "        x = xall[i]*mmperpix\n",
    "        y = yall[i]*mmperpix\n",
    "        maj = majall[i]\n",
    "        \n",
    "        z = 0\n",
    "        for entry in maj:\n",
    "            if entry<2*maj[0] and entry>.5*maj[0] and entry<400:\n",
    "                \"\"\"When the particle tracker loses the particle it creates a very large ellipse where the minor axis is\n",
    "                about the width of the screen. Also if tracking a small particle that overlaps with a dust spec, sometimes\n",
    "                the tracker will shrink the size of the ellipse and fit it to the dust. This if statement along with the \n",
    "                list slicing below discard any entries in the position arrays after there has been an error in tracking\"\"\"\n",
    "                z = z + 1\n",
    "        x = x[0:z]\n",
    "        y = y[0:z]\n",
    "        \n",
    "        \n",
    "        if len(y)>=20: #Minimum number of good data entries(frames)(before a tracking error) to qualify for plotting\n",
    "            frames = len(x)\n",
    "            seconds = frames/fps\n",
    "            dy = np.gradient(y)\n",
    "            dt = 1/fps\n",
    "            vy = -dy/dt\n",
    "\n",
    "            \n",
    "            \n",
    "            particles = particles + 1\n",
    "            plt.title('Average Y Velocity vs Average X Position');\n",
    "            plt.xlabel('X Position (mm)');\n",
    "            plt.ylabel('Y Velocity (mm/s)');\n",
    "            plt.errorbar(np.mean(x), np.mean(vy), np.std(vy),fmt='.b', ecolor='lightgray');\n",
    "            plt.tick_params(axis='x',top='off',direction='out')\n",
    "            plt.tick_params(axis='y',right='off',direction='out')\n",
    "            plt.xlim(0,2.6)\n",
    "            plt.ylim(0,6)\n",
    "plt.tight_layout()"
   ]
  },
  {
   "cell_type": "code",
   "execution_count": 59,
   "metadata": {
    "collapsed": false
   },
   "outputs": [
    {
     "data": {
      "text/plain": [
       "31"
      ]
     },
     "execution_count": 59,
     "metadata": {},
     "output_type": "execute_result"
    }
   ],
   "source": [
    "particles"
   ]
  },
  {
   "cell_type": "code",
   "execution_count": null,
   "metadata": {
    "collapsed": true
   },
   "outputs": [],
   "source": [
    "#         plt.sca(ax[0])\n",
    "#         plt.title('Y Velocity vs Time');\n",
    "#         plt.xlabel('Time (s)');\n",
    "#         plt.ylabel('Y Velocity (mm/s)');\n",
    "#         plt.plot(time,vy);\n",
    "#         plt.tick_params(axis='x',top='off',direction='out')\n",
    "#         plt.tick_params(axis='y',right='off',direction='out')\n",
    "\n",
    "\n",
    "#         plt.sca(ax[1])\n",
    "#         plt.title('X Velocity vs Time');\n",
    "#         plt.xlabel('Time (s)');\n",
    "#         plt.ylabel('X Velocity (mm/s)');\n",
    "#         plt.plot(time,vx);\n",
    "#         plt.tick_params(axis='x',top='off',direction='out')\n",
    "#         plt.tick_params(axis='y',right='off',direction='out')\n",
    "\n",
    "#         plt.sca(ax[0])\n",
    "#         plt.title('Y Velocity vs X Position');\n",
    "#         plt.xlabel('X Position (mm)');\n",
    "#         plt.ylabel('Y Velocity (mm/s)');\n",
    "#         plt.plot(x,vy);\n",
    "#         plt.tick_params(axis='x',top='off',direction='out')\n",
    "#         plt.tick_params(axis='y',right='off',direction='out')\n",
    "#         plt.xlim(0,2.6)"
   ]
  },
  {
   "cell_type": "code",
   "execution_count": 276,
   "metadata": {
    "collapsed": true
   },
   "outputs": [],
   "source": [
    "abc = np.array([5,4,3,2,1])\n",
    "cba = np.sort(abc)"
   ]
  },
  {
   "cell_type": "code",
   "execution_count": 277,
   "metadata": {
    "collapsed": false
   },
   "outputs": [
    {
     "data": {
      "text/plain": [
       "array([1, 2, 3, 4, 5])"
      ]
     },
     "execution_count": 277,
     "metadata": {},
     "output_type": "execute_result"
    }
   ],
   "source": [
    "cba"
   ]
  },
  {
   "cell_type": "code",
   "execution_count": null,
   "metadata": {
    "collapsed": true
   },
   "outputs": [],
   "source": []
  }
 ],
 "metadata": {
  "kernelspec": {
   "display_name": "Python 3",
   "language": "python",
   "name": "python3"
  },
  "language_info": {
   "codemirror_mode": {
    "name": "ipython",
    "version": 3
   },
   "file_extension": ".py",
   "mimetype": "text/x-python",
   "name": "python",
   "nbconvert_exporter": "python",
   "pygments_lexer": "ipython3",
   "version": "3.4.0"
  }
 },
 "nbformat": 4,
 "nbformat_minor": 0
}
