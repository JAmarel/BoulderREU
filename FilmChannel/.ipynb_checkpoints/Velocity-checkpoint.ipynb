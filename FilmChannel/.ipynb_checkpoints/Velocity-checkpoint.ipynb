{
 "cells": [
  {
   "cell_type": "code",
   "execution_count": 72,
   "metadata": {
    "collapsed": true
   },
   "outputs": [],
   "source": [
    "import numpy as np\n",
    "%matplotlib inline\n",
    "import matplotlib.pyplot as plt"
   ]
  },
  {
   "cell_type": "code",
   "execution_count": 73,
   "metadata": {
    "collapsed": true
   },
   "outputs": [],
   "source": [
    "#2.6mm wide\n",
    "#1.9mm verticle\n",
    "#Taken at 640x480\n",
    "mmperpix = .004\n",
    "fps = 1000"
   ]
  },
  {
   "cell_type": "code",
   "execution_count": 92,
   "metadata": {
    "collapsed": true
   },
   "outputs": [],
   "source": [
    "n = 1 #Number of epx files\n",
    "#epx files renamed test0.txt through testn.txt"
   ]
  },
  {
   "cell_type": "code",
   "execution_count": 83,
   "metadata": {
    "collapsed": false
   },
   "outputs": [],
   "source": [
    "alldata = np.array([np.delete(np.loadtxt('new' + str(j) +'.txt', unpack=True),0,0) for j in range(n)])[0]"
   ]
  },
  {
   "cell_type": "code",
   "execution_count": 102,
   "metadata": {
    "collapsed": false
   },
   "outputs": [],
   "source": [
    "N = int(len(alldata)/5)"
   ]
  },
  {
   "cell_type": "code",
   "execution_count": 103,
   "metadata": {
    "collapsed": true
   },
   "outputs": [],
   "source": [
    "allx = np.array([alldata[5*i] for i in range(N)])"
   ]
  },
  {
   "cell_type": "code",
   "execution_count": 106,
   "metadata": {
    "collapsed": false
   },
   "outputs": [
    {
     "data": {
      "text/plain": [
       "array([[ 324.6145,  324.4971,  324.4297,  324.5269,  324.382 ,  324.341 ,\n",
       "         324.2567,  324.2015,  324.0119,  323.8937,  323.8939,  323.8412,\n",
       "         323.7559,  323.6956,  323.5313,  323.5478,  323.5765,  323.5189,\n",
       "         323.4811,  323.4107,  323.3446,  323.34  ,  323.3294,  323.268 ,\n",
       "         323.1006,  323.0721,  323.0478,  323.0161,  323.0323,  322.9655,\n",
       "         322.9004,  322.8844,  322.8465,  322.7755,  322.8   ,  322.7054,\n",
       "         322.626 ,  322.598 ,  322.5555,  322.4878,  322.4259,  322.3689,\n",
       "         322.1513,  322.1212,  322.1037,  321.9939,  321.9738,  321.9499,\n",
       "         321.8958,  321.829 ,  321.7556,  321.7702,  321.7172,  321.6626,\n",
       "         321.5428,  321.5388,  321.4614,  321.4032,  321.3737,  321.33  ,\n",
       "         321.2974,  321.2346,  321.2218,  321.0657,  321.0296,  320.996 ,\n",
       "         320.9037,  320.8757,  320.8336,  320.8171,  320.7872,  320.6769,\n",
       "         320.6286,  320.6693,  320.59  ,  320.6245,  320.6035,  320.6076,\n",
       "         320.5897,  320.5663,  320.3703,  320.3917,  320.276 ,  320.2151,\n",
       "         320.1144,  319.9088,  320.0747,  320.1434,  320.0394,  319.9354,\n",
       "         319.8933,  319.7322,  319.8252,  319.5842,  319.3664,  319.5199,\n",
       "         319.4751,  319.4328,  319.4273,  319.2918],\n",
       "       [ 257.2109,  257.0078,  256.8549,  256.7651,  256.9323,  256.8106,\n",
       "         256.8162,  256.7319,  256.7042,  256.4792,  256.5132,  256.5526,\n",
       "         256.5195,  256.3607,  256.3861,  256.3   ,  256.2938,  256.1667,\n",
       "         256.1607,  256.064 ,  255.8908,  255.9143,  255.8514,  255.7443,\n",
       "         255.8167,  255.7598,  255.7374,  255.6483,  255.4199,  255.4055,\n",
       "         255.1818,  255.1223,  255.0794,  255.125 ,  255.0052,  254.9792,\n",
       "         254.7563,  254.7577,  254.6256,  254.6091,  254.4187,  254.3284,\n",
       "         254.2438,  254.0976,  253.9113,  253.9303,  253.7512,  253.698 ,\n",
       "         253.5721,  253.5236,  253.493 ,  253.5336,  253.6106,  253.5065,\n",
       "         253.6164,  253.6033,  253.7012,  253.7306,  253.6434,  253.649 ,\n",
       "         253.6016,  253.5418,  253.5794,  253.5709,  253.3541,  253.3308,\n",
       "         253.2752,  253.2235,  253.2624,  253.3483,  253.2989,  253.0977,\n",
       "         253.2883,  253.2926,  253.2283,  253.1212,  253.1771,  253.2074,\n",
       "         253.    ,  252.9314,  252.7105,  252.6989,  252.7388,  252.6142,\n",
       "         252.5593,  252.4307,  252.4307,  252.4286,  252.2764,  252.1754,\n",
       "         252.2115,  252.0275,  252.0389,  251.8638,  251.8118,  251.7733,\n",
       "         251.751 ,  251.7298,  251.6599,  251.3734],\n",
       "       [ 348.932 ,  348.9586,  349.0414,  348.9028,  348.8708,  348.7862,\n",
       "         348.4546,  348.3931,  348.3055,  348.1149,  348.0805,  348.1   ,\n",
       "         348.1   ,  347.8889,  347.8581,  347.8462,  347.8125,  347.795 ,\n",
       "         347.7375,  347.5404,  347.1847,  347.1582,  347.0875,  347.0692,\n",
       "         347.0385,  347.0385,  346.962 ,  346.962 ,  346.8875,  346.7988,\n",
       "         346.7683,  346.689 ,  346.6726,  346.515 ,  346.4211,  346.4535,\n",
       "         346.2717,  346.1078,  346.0655,  346.0471,  345.9581,  345.8663,\n",
       "         345.8372,  345.75  ,  345.6193,  345.5393,  345.4445,  345.4641,\n",
       "         345.5056,  345.5028,  345.5141,  345.0621,  345.0175,  344.8954,\n",
       "         344.8954,  344.8857,  344.7308,  344.7039,  344.5196,  344.4944,\n",
       "         344.45  ,  344.5345,  344.4576,  344.477 ,  344.4914,  344.4023,\n",
       "         344.1272,  343.9598,  343.8715,  343.7944,  343.8276,  343.7191,\n",
       "         343.7143,  343.6983,  343.5919,  343.5531,  343.5746,  343.4944,\n",
       "         343.6022,  343.6022,  343.4565,  343.4813,  343.4118,  343.3817,\n",
       "         343.2655,  343.0517,  342.9829,  343.0233,  342.7797,  342.6648,\n",
       "         342.6648,  342.6333,  342.6571,  342.674 ,  342.6497,  342.6593,\n",
       "         342.5879,  342.5598,  342.5667,  342.5674],\n",
       "       [ 391.9474,  391.9896,  391.9155,  391.8392,  391.7276,  391.5717,\n",
       "         391.4045,  391.2285,  391.221 ,  391.0708,  390.9917,  391.0082,\n",
       "         390.9611,  390.9117,  390.7914,  390.776 ,  390.751 ,  390.6552,\n",
       "         390.5812,  390.5442,  390.502 ,  390.4335,  390.3484,  390.1006,\n",
       "         390.0247,  389.9653,  389.9615,  389.9438,  389.976 ,  389.9229,\n",
       "         389.8917,  389.7485,  389.7485,  389.6758,  389.7237,  389.6886,\n",
       "         389.5201,  389.4943,  389.4753,  389.3848,  389.3855,  389.1552,\n",
       "         389.1852,  389.0462,  388.9379,  388.8239,  388.867 ,  388.7966,\n",
       "         388.7122,  388.6372,  388.4944,  388.4085,  388.3506,  388.2587,\n",
       "         388.1838,  388.1481,  388.102 ,  388.0721,  388.0558,  387.991 ,\n",
       "         387.9766,  387.9012,  387.9071,  387.9052,  387.8327,  387.8206,\n",
       "         387.754 ,  387.7487,  387.7377,  387.6462,  387.4991,  387.5378,\n",
       "         387.3706,  387.292 ,  387.3215,  387.1655,  387.0708,  387.0904,\n",
       "         387.0256,  386.9576,  386.8445,  386.8503,  386.7262,  386.4264,\n",
       "         386.3769,  386.3293,  386.2665,  386.2154,  386.2479,  386.3061,\n",
       "         386.2602,  386.2054,  386.1216,  386.106 ,  385.946 ,  385.8497,\n",
       "         385.6701,  385.5894,  385.5094,  385.4412],\n",
       "       [ 540.875 ,  540.7917,  540.6415,  540.5294,  540.2083,  540.1489,\n",
       "         540.    ,  540.0588,  539.9388,  540.    ,  539.7917,  539.6415,\n",
       "         539.5294,  539.2083,  539.125 ,  539.    ,  539.1   ,  538.9388,\n",
       "         539.    ,  538.8367,  538.875 ,  538.74  ,  538.5   ,  538.5   ,\n",
       "         538.2292,  538.1633,  538.2083,  538.02  ,  538.    ,  538.    ,\n",
       "         537.8823,  537.9362,  537.7917,  537.7959,  537.4615,  537.36  ,\n",
       "         537.1633,  537.1177,  537.1633,  537.125 ,  537.    ,  536.9   ,\n",
       "         536.8367,  536.86  ,  536.6458,  536.5714,  536.5   ,  536.42  ,\n",
       "         536.1633,  536.06  ,  536.    ,  535.9   ,  535.8367,  535.8367,\n",
       "         535.7708,  535.64  ,  535.451 ,  535.451 ,  535.3137,  535.0784,\n",
       "         535.0612,  535.    ,  535.    ,  535.    ,  534.9   ,  534.9   ,\n",
       "         534.6545,  534.5   ,  534.5192,  534.4717,  534.434 ,  534.2692,\n",
       "         534.2037,  534.3396,  534.    ,  534.    ,  533.8148,  533.9608,\n",
       "         533.9   ,  533.614 ,  533.75  ,  533.549 ,  533.4717,  533.4151,\n",
       "         533.25  ,  533.3036,  533.0612,  533.0588,  532.9608,  532.9216,\n",
       "         532.6111,  532.6154,  532.6111,  532.463 ,  532.3889,  532.3396,\n",
       "         532.4074,  532.1132,  532.1852,  531.7818],\n",
       "       [ 326.4278,  326.3011,  326.1152,  326.1186,  326.    ,  325.9637,\n",
       "         325.7097,  325.6557,  325.4946,  325.3989,  325.3665,  325.0576,\n",
       "         324.9893,  325.0847,  324.9323,  324.5684,  324.5351,  324.5706,\n",
       "         324.4649,  324.3424,  324.3081,  324.1571,  324.1598,  324.0995,\n",
       "         324.0526,  323.8446,  323.5759,  323.4948,  323.4603,  323.4409,\n",
       "         323.367 ,  323.1958,  322.9795,  323.0518,  322.9848,  322.9686,\n",
       "         322.6919,  322.6919,  322.4074,  322.3564,  322.3533,  322.0714,\n",
       "         322.0558,  322.0414,  321.8995,  321.6414,  321.5158,  321.5134,\n",
       "         321.385 ,  321.385 ,  321.0469,  320.9641,  321.    ,  321.0206,\n",
       "         321.0052,  320.8549,  320.4893,  320.4202,  320.3579,  320.2103,\n",
       "         320.12  ,  320.133 ,  320.1733,  319.7931,  319.8481,  319.87  ,\n",
       "         319.8543,  319.7314,  319.575 ,  319.3469,  319.21  ,  319.1226,\n",
       "         319.0443,  319.0891,  319.0591,  318.8676,  318.7826,  318.7826,\n",
       "         318.5829,  318.5668,  318.484 ,  318.3084,  318.0283,  317.981 ,\n",
       "         317.9282,  317.7887,  317.6651,  317.5227,  317.4753,  317.5111,\n",
       "         317.5536,  317.5177,  317.181 ,  317.1391,  316.991 ,  316.8348,\n",
       "         316.5198,  316.4823,  316.5463,  316.4669],\n",
       "       [ 171.8024,  171.7345,  171.5585,  171.2189,  171.1437,  171.0937,\n",
       "         170.9578,  170.9042,  170.8155,  170.6283,  170.3283,  170.1752,\n",
       "         170.0546,  170.0667,  169.9698,  169.8976,  169.8636,  169.6446,\n",
       "         169.3606,  169.3063,  169.1284,  169.0432,  168.9786,  168.927 ,\n",
       "         168.9339,  168.8108,  168.6907,  168.6862,  168.3447,  168.2243,\n",
       "         168.2362,  168.0876,  168.0697,  168.0152,  167.8712,  167.7788,\n",
       "         167.4326,  167.3303,  167.2515,  167.1012,  167.0758,  167.0245,\n",
       "         166.9817,  166.8318,  166.7134,  166.4985,  166.4125,  166.2308,\n",
       "         166.1944,  166.0399,  166.0392,  165.8848,  165.7606,  165.6892,\n",
       "         165.4304,  165.2469,  165.32  ,  165.0964,  165.1061,  165.052 ,\n",
       "         164.9694,  164.8804,  164.7568,  164.4801,  164.5093,  164.3084,\n",
       "         164.2284,  164.2215,  164.1818,  164.139 ,  164.1125,  163.9727,\n",
       "         163.9424,  163.8943,  163.8123,  163.4862,  163.4141,  163.3283,\n",
       "         163.2079,  163.25  ,  163.1682,  162.988 ,  162.9305,  162.803 ,\n",
       "         162.7416,  162.3889,  162.295 ,  162.241 ,  162.0734,  162.0631,\n",
       "         162.    ,  161.9266,  161.8997,  161.7598,  161.6826,  161.6749,\n",
       "         161.3765,  161.2453,  161.1692,  161.1395],\n",
       "       [ 231.7927,  231.6117,  231.477 ,  231.2862,  231.2204,  230.9596,\n",
       "         230.9487,  230.9432,  230.8342,  230.6485,  230.4783,  230.1722,\n",
       "         230.1103,  229.9487,  229.967 ,  229.8897,  229.7441,  229.6168,\n",
       "         229.5037,  229.2371,  229.1904,  229.1378,  229.1072,  229.024 ,\n",
       "         228.8664,  228.8033,  228.6624,  228.5201,  228.454 ,  228.3352,\n",
       "         228.1204,  228.0424,  227.9797,  227.974 ,  227.9248,  227.6886,\n",
       "         227.5785,  227.4945,  227.2403,  227.175 ,  226.9926,  226.9553,\n",
       "         226.9798,  226.8793,  226.7586,  226.5473,  226.4618,  226.2509,\n",
       "         226.1142,  226.1436,  225.978 ,  225.8376,  225.8294,  225.6478,\n",
       "         225.5612,  225.3873,  225.1859,  225.1852,  225.2118,  225.1195,\n",
       "         224.8603,  224.8091,  224.7067,  224.6218,  224.5662,  224.4615,\n",
       "         224.1922,  224.1903,  224.1667,  224.1695,  224.1386,  224.0665,\n",
       "         223.8674,  223.8162,  223.7164,  223.6136,  223.5229,  223.3839,\n",
       "         223.3718,  223.1534,  223.1121,  223.0037,  222.9113,  222.8752,\n",
       "         222.7143,  222.5927,  222.4771,  222.385 ,  222.1835,  222.048 ,\n",
       "         222.0055,  221.9415,  221.9167,  221.7835,  221.6426,  221.5766,\n",
       "         221.5572,  221.3243,  221.2126,  221.0926],\n",
       "       [ 296.9758,  296.7485,  296.6145,  296.5757,  296.4445,  296.4445,\n",
       "         296.2981,  296.1258,  296.057 ,  295.9557,  295.8385,  295.6101,\n",
       "         295.4364,  295.4762,  295.4667,  295.3665,  295.0968,  295.0764,\n",
       "         295.0385,  295.    ,  294.9182,  294.7785,  294.575 ,  294.5   ,\n",
       "         294.4606,  294.3879,  294.4601,  294.3734,  294.0968,  294.0968,\n",
       "         294.039 ,  294.039 ,  293.9161,  293.7625,  293.5555,  293.5341,\n",
       "         293.4606,  293.5542,  293.5215,  293.3354,  293.1111,  293.0968,\n",
       "         293.0196,  292.8974,  292.8165,  292.575 ,  292.5399,  292.5976,\n",
       "         292.5389,  292.4506,  292.2564,  292.183 ,  292.032 ,  291.9156,\n",
       "         291.9156,  291.8839,  291.7778,  291.522 ,  291.4872,  291.471 ,\n",
       "         291.5128,  291.3038,  291.1097,  291.039 ,  291.0385,  290.9873,\n",
       "         290.8974,  290.8441,  290.7198,  290.7342,  290.6234,  290.5705,\n",
       "         290.5   ,  290.424 ,  290.4088,  290.3654,  290.1169,  290.0592,\n",
       "         290.039 ,  290.    ,  289.8846,  289.7806,  289.5975,  289.5494,\n",
       "         289.6265,  289.515 ,  289.425 ,  289.2208,  289.1373,  289.0581,\n",
       "         288.9156,  288.9156,  288.9156,  288.8077,  288.522 ,  288.535 ,\n",
       "         288.5419,  288.5541,  288.4968,  288.0323]])"
      ]
     },
     "execution_count": 106,
     "metadata": {},
     "output_type": "execute_result"
    }
   ],
   "source": [
    "allx"
   ]
  },
  {
   "cell_type": "code",
   "execution_count": 65,
   "metadata": {
    "collapsed": true
   },
   "outputs": [],
   "source": [
    "def allarrays(textfile):\n",
    "    #This loop cycles each text file from tracking program\n",
    "    data = np.loadtxt(textfile)#This load only serves to find N\n",
    "    N = int((len(data[0])-1)/5) #I load twice because it is easier to count the number of particles without unpacking \n",
    "    data = np.loadtxt(textfile, unpack=True)\n",
    "    \n",
    "    #Array of arrays where each sub-array contains the information for a single particle at each frame\n",
    "    xall = np.array([data[1+5*i] for i in range(N)])\n",
    "    yall = np.array([data[2+5*i] for i in range(N)])\n",
    "    majall = np.array([data[3+5*i] for i in range(N)]) #major axis\n",
    "    return xall,yall,majall"
   ]
  },
  {
   "cell_type": "code",
   "execution_count": 66,
   "metadata": {
    "collapsed": true
   },
   "outputs": [],
   "source": [
    "def datafilter(x,y,maj):\n",
    "    for entry in maj:\n",
    "        if entry<2*maj[0] and entry>.5*maj[0] and entry<400:\n",
    "            \"\"\"When the particle tracker loses the particle it creates a very large ellipse where the minor axis is\n",
    "            about the width of the screen. Also if tracking a small particle that overlaps with a dust spec, sometimes\n",
    "            the tracker will shrink the size of the ellipse and fit it to the dust. This if statement along with the \n",
    "            list slicing below discard any entries in the position arrays after there has been an error in tracking\"\"\"\n",
    "            z = z + 1\n",
    "    x = x[0:z]\n",
    "    y = y[0:z]\n",
    "    return x,y"
   ]
  },
  {
   "cell_type": "code",
   "execution_count": 58,
   "metadata": {
    "collapsed": false
   },
   "outputs": [
    {
     "data": {
      "image/png": "[encoded data removed]",
      "text/plain": [
       "<matplotlib.figure.Figure at 0x7f5409d485c0>"
      ]
     },
     "metadata": {},
     "output_type": "display_data"
    }
   ],
   "source": [
    "particles = 0\n",
    "f, ax = plt.subplots(1, 1,figsize=(6,6),sharey=True)\n",
    "\n",
    "for j in range(n):\n",
    "    #This loop cycles each text file from tracking program\n",
    "    data = np.loadtxt('new' + str(j) +'.txt')#This load only serves to find N\n",
    "    N = int((len(data[0])-1)/5) #I load twice because it is easier to count the number of particles without unpacking \n",
    "    data = np.loadtxt('new' + str(j) +'.txt', unpack=True)\n",
    "    \n",
    "    #Array of arrays where each sub-array contains the information for a single particle at each frame\n",
    "    xall = np.array([data[1+5*i] for i in range(N)])\n",
    "    yall = np.array([data[2+5*i] for i in range(N)])\n",
    "    majall = np.array([data[3+5*i] for i in range(N)]) #major axis\n",
    "            \n",
    "\n",
    "    for i in range(len(xall)):\n",
    "        \n",
    "        #Looping through the sub arrays to plot each particle individually\n",
    "        x = xall[i]*mmperpix\n",
    "        y = yall[i]*mmperpix\n",
    "        maj = majall[i]\n",
    "        \n",
    "        z = 0\n",
    "        for entry in maj:\n",
    "            if entry<2*maj[0] and entry>.5*maj[0] and entry<400:\n",
    "                \"\"\"When the particle tracker loses the particle it creates a very large ellipse where the minor axis is\n",
    "                about the width of the screen. Also if tracking a small particle that overlaps with a dust spec, sometimes\n",
    "                the tracker will shrink the size of the ellipse and fit it to the dust. This if statement along with the \n",
    "                list slicing below discard any entries in the position arrays after there has been an error in tracking\"\"\"\n",
    "                z = z + 1\n",
    "        x = x[0:z]\n",
    "        y = y[0:z]\n",
    "        \n",
    "        \n",
    "        if len(y)>=20: #Minimum number of good data entries(frames)(before a tracking error) to qualify for plotting\n",
    "            frames = len(x)\n",
    "            seconds = frames/fps\n",
    "            dy = np.gradient(y)\n",
    "            dt = 1/fps\n",
    "            vy = -dy/dt\n",
    "\n",
    "            \n",
    "            \n",
    "            particles = particles + 1\n",
    "            plt.title('Average Y Velocity vs Average X Position');\n",
    "            plt.xlabel('X Position (mm)');\n",
    "            plt.ylabel('Y Velocity (mm/s)');\n",
    "            plt.errorbar(np.mean(x), np.mean(vy), np.std(vy),fmt='.b', ecolor='lightgray');\n",
    "            plt.tick_params(axis='x',top='off',direction='out')\n",
    "            plt.tick_params(axis='y',right='off',direction='out')\n",
    "            plt.xlim(0,2.6)\n",
    "            plt.ylim(0,6)\n",
    "plt.tight_layout()"
   ]
  },
  {
   "cell_type": "code",
   "execution_count": 59,
   "metadata": {
    "collapsed": false
   },
   "outputs": [
    {
     "data": {
      "text/plain": [
       "31"
      ]
     },
     "execution_count": 59,
     "metadata": {},
     "output_type": "execute_result"
    }
   ],
   "source": [
    "particles"
   ]
  },
  {
   "cell_type": "code",
   "execution_count": null,
   "metadata": {
    "collapsed": true
   },
   "outputs": [],
   "source": [
    "#         plt.sca(ax[0])\n",
    "#         plt.title('Y Velocity vs Time');\n",
    "#         plt.xlabel('Time (s)');\n",
    "#         plt.ylabel('Y Velocity (mm/s)');\n",
    "#         plt.plot(time,vy);\n",
    "#         plt.tick_params(axis='x',top='off',direction='out')\n",
    "#         plt.tick_params(axis='y',right='off',direction='out')\n",
    "\n",
    "\n",
    "#         plt.sca(ax[1])\n",
    "#         plt.title('X Velocity vs Time');\n",
    "#         plt.xlabel('Time (s)');\n",
    "#         plt.ylabel('X Velocity (mm/s)');\n",
    "#         plt.plot(time,vx);\n",
    "#         plt.tick_params(axis='x',top='off',direction='out')\n",
    "#         plt.tick_params(axis='y',right='off',direction='out')\n",
    "\n",
    "#         plt.sca(ax[0])\n",
    "#         plt.title('Y Velocity vs X Position');\n",
    "#         plt.xlabel('X Position (mm)');\n",
    "#         plt.ylabel('Y Velocity (mm/s)');\n",
    "#         plt.plot(x,vy);\n",
    "#         plt.tick_params(axis='x',top='off',direction='out')\n",
    "#         plt.tick_params(axis='y',right='off',direction='out')\n",
    "#         plt.xlim(0,2.6)"
   ]
  }
 ],
 "metadata": {
  "kernelspec": {
   "display_name": "Python 3",
   "language": "python",
   "name": "python3"
  },
  "language_info": {
   "codemirror_mode": {
    "name": "ipython",
    "version": 3
   },
   "file_extension": ".py",
   "mimetype": "text/x-python",
   "name": "python",
   "nbconvert_exporter": "python",
   "pygments_lexer": "ipython3",
   "version": "3.4.0"
  }
 },
 "nbformat": 4,
 "nbformat_minor": 0
}
